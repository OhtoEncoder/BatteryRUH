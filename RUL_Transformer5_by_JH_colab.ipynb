{
  "cells": [
    {
      "cell_type": "code",
      "source": [
        "from google.colab import drive\n",
        "drive.mount('/content/drive')"
      ],
      "metadata": {
        "colab": {
          "base_uri": "https://localhost:8080/"
        },
        "id": "Cjg86oFn63e8",
        "outputId": "d84ad377-f225-4b13-b2e1-1600e849320d"
      },
      "execution_count": 1,
      "outputs": [
        {
          "output_type": "stream",
          "name": "stdout",
          "text": [
            "Mounted at /content/drive\n"
          ]
        }
      ]
    },
    {
      "cell_type": "code",
      "execution_count": 2,
      "metadata": {
        "colab": {
          "base_uri": "https://localhost:8080/"
        },
        "id": "NJFEKaKj60hG",
        "outputId": "60acd15c-7238-4c27-ba3b-c69eb29cadeb"
      },
      "outputs": [
        {
          "output_type": "stream",
          "name": "stdout",
          "text": [
            "cuda\n"
          ]
        }
      ],
      "source": [
        "import os\n",
        "import time\n",
        "import numpy as np\n",
        "import pandas as pd\n",
        "from sklearn.preprocessing import StandardScaler, MinMaxScaler\n",
        "from torch.utils.data import TensorDataset, DataLoader\n",
        "import torch\n",
        "import torch.nn as nn\n",
        "from torch.optim import Adam\n",
        "from torch.autograd import Variable\n",
        "from tqdm import tqdm_notebook\n",
        "from sklearn.preprocessing import StandardScaler, MinMaxScaler\n",
        "from sklearn.model_selection import train_test_split\n",
        "\n",
        "#M2 Mac의 그래픽카드 가속 옵션\n",
        "#device = torch.device('mps' if torch.backends.mps.is_available() else 'cpu')\n",
        "device = torch.device('cuda')\n",
        "print(device)\n",
        "#X,Y 데이터 로딩\n",
        "X = pd.read_csv('/content/drive/MyDrive/Data_X.csv').values\n",
        "y = pd.read_csv('/content/drive/MyDrive/Data_Y.csv').values\n",
        "\n",
        "ms = MinMaxScaler()\n",
        "ss = StandardScaler()\n",
        "\n",
        "X_ss = ss.fit_transform(X)\n",
        "y_ms = ms.fit_transform(y)\n",
        "\n",
        "\n",
        "\n",
        "\n",
        "\n"
      ]
    },
    {
      "cell_type": "code",
      "execution_count": 3,
      "metadata": {
        "colab": {
          "base_uri": "https://localhost:8080/"
        },
        "id": "NspUJdQm60hJ",
        "outputId": "da6c87aa-9cd5-4b53-b82d-53280ba5105c"
      },
      "outputs": [
        {
          "output_type": "stream",
          "name": "stdout",
          "text": [
            "X_tensors shape: torch.Size([168, 7])\n",
            "y_tensors shape: torch.Size([168, 1])\n"
          ]
        }
      ],
      "source": [
        "#Variable로 감싸진 텐서? .backward() 가 호출될 때 자동으로 계산된다.\n",
        "X_tensors = Variable(torch.Tensor(X_ss))\n",
        "y_tensors = Variable(torch.Tensor(y))\n",
        "\n",
        "\n",
        "print('X_tensors shape:', X_tensors.shape)\n",
        "print('y_tensors shape:', y_tensors.shape)"
      ]
    },
    {
      "cell_type": "markdown",
      "metadata": {
        "id": "ut4IlSGJ60hJ"
      },
      "source": [
        "## device 옮기기"
      ]
    },
    {
      "cell_type": "code",
      "execution_count": 4,
      "metadata": {
        "id": "zLFj7-YS60hK"
      },
      "outputs": [],
      "source": [
        "X_tensors = X_tensors.to(device=device, dtype=torch.float32)\n",
        "y_tensors = y_tensors.to(device=device, dtype=torch.float32)\n"
      ]
    },
    {
      "cell_type": "code",
      "execution_count": 5,
      "metadata": {
        "id": "Hsi66xUC60hK"
      },
      "outputs": [],
      "source": [
        "# 데이터 정보와 차원 지정\n",
        "train_size = 160\n",
        "\n",
        "input_dim = len(X_tensors[1])          #입력 변수 수\n",
        "d_model = train_size\n",
        "output_dim = len(y_tensors[1])         #출력 변수 수\n",
        "num_epochs = 1000        #에폭\n",
        "num_layers = 6          #인코더, 디코더 중첩 수\n",
        "num_heads = 2           #데이터를 병렬적으로 처리하는 attention의 헤드 수\n",
        "dim_feedforward = 1024  #피드포워드 신경망의 차원\n",
        "dropout = 0             #dropout\n",
        "learning_rate = 0.00001\n",
        "\n",
        "# 데이터로더 객체 생성\n",
        "batch_size = train_size\n",
        "train_data = TensorDataset(X_tensors[:train_size, :], y_tensors[:train_size,  :])\n",
        "train_loader = DataLoader(dataset=train_data, batch_size=batch_size, shuffle=False)\n",
        "test_data = TensorDataset(X_tensors[train_size:,  :], y_tensors[train_size:, :])\n",
        "test_loader = DataLoader(dataset=test_data, batch_size=batch_size, shuffle=False)"
      ]
    },
    {
      "cell_type": "code",
      "execution_count": 6,
      "metadata": {
        "id": "6Gt0HJll60hL",
        "colab": {
          "base_uri": "https://localhost:8080/"
        },
        "outputId": "4430dbdf-c146-4c41-a655-b42dd9d1613d"
      },
      "outputs": [
        {
          "output_type": "stream",
          "name": "stderr",
          "text": [
            "/usr/local/lib/python3.10/dist-packages/torch/nn/modules/transformer.py:282: UserWarning: enable_nested_tensor is True, but self.use_nested_tensor is False because encoder_layer.self_attn.batch_first was not True(use batch_first for better inference performance)\n",
            "  warnings.warn(f\"enable_nested_tensor is True, but self.use_nested_tensor is False because {why_not_sparsity_fast_path}\")\n"
          ]
        }
      ],
      "source": [
        "# 트랜스포머 모델 정의\n",
        "class TransformerModel(nn.Module): #nn.Module을 상속받아 트랜스포머 모델 클래스 생성\n",
        "    def __init__(self, input_dim, d_model, output_dim, num_heads, num_layers): # 생성자 정의\n",
        "        super(TransformerModel, self).__init__() #부모 클래스의 생성자 호출\n",
        "        self.embedding = nn.Linear(input_dim, d_model) #임베딩 레이어: 입력 차원에서 모델 차원으로 선형 변환\n",
        "        self.output_dim = output_dim\n",
        "        self.num_heads = num_heads\n",
        "        self.num_layers = num_layers\n",
        "\n",
        "\n",
        "        self.transformer = nn.Transformer(d_model, num_heads, num_layers, num_layers, dim_feedforward, dropout) # 트랜스포머 레이어 생성\n",
        "        self.fc = nn.Linear(d_model, output_dim) #출력 레이어: 모델 차원에서 출력 차원으로 선형 변환\n",
        "\n",
        "    def forward(self, x): # forward 전파 메서드 정의\n",
        "        x = x.permute(1, 0)      #배치 차원과 시퀀스 차원을 바꾸어 트랜스포머 입력에 맞게 조정\n",
        "        x = self.embedding(x)       #임베딩 레이어 통과\n",
        "        x = self.transformer(x, x)  #트랜스포머 레이어 통과 (셀프 어텐션)\n",
        "        x = self.fc(x[-1])          #마지막 시퀀스만 가져와 출력 레이어 통과\n",
        "        return x                    #결과 반환\n",
        "\n",
        "\n",
        "#모델, 손실함수와 옵티마이저 정의\n",
        "model = TransformerModel(input_dim, d_model, output_dim, num_heads, num_layers).to(device)\n",
        "criterion = torch.nn.MSELoss()\n",
        "optimizer = Adam(model.parameters(), lr=learning_rate)"
      ]
    },
    {
      "cell_type": "markdown",
      "metadata": {
        "id": "HP8SJaGY60hL"
      },
      "source": [
        "## Transformer 모델 정의"
      ]
    },
    {
      "cell_type": "code",
      "execution_count": 7,
      "metadata": {
        "colab": {
          "base_uri": "https://localhost:8080/"
        },
        "id": "j1T3ThEu60hL",
        "outputId": "7d38f06c-073e-4678-c56d-a3d1c4588fd9"
      },
      "outputs": [
        {
          "output_type": "stream",
          "name": "stderr",
          "text": [
            "/usr/local/lib/python3.10/dist-packages/torch/nn/modules/transformer.py:282: UserWarning: enable_nested_tensor is True, but self.use_nested_tensor is False because encoder_layer.self_attn.batch_first was not True(use batch_first for better inference performance)\n",
            "  warnings.warn(f\"enable_nested_tensor is True, but self.use_nested_tensor is False because {why_not_sparsity_fast_path}\")\n"
          ]
        }
      ],
      "source": [
        "# 트랜스포머 모델 정의\n",
        "class TransformerModel(nn.Module): #nn.Module을 상속받아 트랜스포머 모델 클래스 생성\n",
        "    def __init__(self, input_dim, d_model, output_dim, num_heads, num_layers): # 생성자 정의\n",
        "        super(TransformerModel, self).__init__() #부모 클래스의 생성자 호출\n",
        "        self.embedding = nn.Linear(input_dim, d_model) #임베딩 레이어: 입력 차원에서 모델 차원으로 선형 변환\n",
        "        self.output_dim = output_dim\n",
        "        self.num_heads = num_heads\n",
        "        self.num_layers = num_layers\n",
        "\n",
        "\n",
        "        self.transformer = nn.Transformer(d_model, num_heads, num_layers, num_layers, dim_feedforward, dropout) # 트랜스포머 레이어 생성\n",
        "        self.fc = nn.Linear(d_model, output_dim) #출력 레이어: 모델 차원에서 출력 차원으로 선형 변환\n",
        "\n",
        "    def forward(self, x): # forward 전파 메서드 정의\n",
        "\n",
        "        x = self.embedding(x)       #임베딩 레이어 통과\n",
        "        x = self.transformer(x, x)  #트랜스포머 레이어 통과 (셀프 어텐션)\n",
        "        x = self.fc(x[-1])          #마지막 시퀀스만 가져와 출력 레이어 통과\n",
        "        return x                    #결과 반환\n",
        "\n",
        "\n",
        "#모델, 손실함수와 옵티마이저 정의\n",
        "model = TransformerModel(input_dim, d_model, output_dim, num_heads, num_layers).to(device)\n",
        "criterion = torch.nn.MSELoss()\n",
        "optimizer = Adam(model.parameters(), lr=learning_rate)"
      ]
    },
    {
      "cell_type": "code",
      "source": [
        "# 빈 predict 항목 생성\n",
        "predict = torch.empty(len(X_tensors), 1, requires_grad=False)  # requires_grad를 False로 설정하여 중복 역전파 방지\n",
        "predict[:train_size] = y_tensors[:train_size]\n",
        "predict"
      ],
      "metadata": {
        "colab": {
          "base_uri": "https://localhost:8080/"
        },
        "id": "GnQMdleT7PWe",
        "outputId": "0b1c56dc-dfae-4be6-c2a6-321cd8fb83fc"
      },
      "execution_count": 8,
      "outputs": [
        {
          "output_type": "execute_result",
          "data": {
            "text/plain": [
              "tensor([[1.0019],\n",
              "        [0.9965],\n",
              "        [0.9911],\n",
              "        [0.9911],\n",
              "        [0.9857],\n",
              "        [0.9911],\n",
              "        [0.9911],\n",
              "        [0.9857],\n",
              "        [0.9803],\n",
              "        [0.9803],\n",
              "        [0.9803],\n",
              "        [0.9750],\n",
              "        [0.9750],\n",
              "        [0.9750],\n",
              "        [0.9696],\n",
              "        [0.9696],\n",
              "        [0.9696],\n",
              "        [0.9696],\n",
              "        [0.9696],\n",
              "        [0.9965],\n",
              "        [0.9965],\n",
              "        [0.9911],\n",
              "        [0.9857],\n",
              "        [0.9857],\n",
              "        [0.9857],\n",
              "        [0.9750],\n",
              "        [0.9750],\n",
              "        [0.9750],\n",
              "        [0.9696],\n",
              "        [0.9696],\n",
              "        [0.9965],\n",
              "        [0.9857],\n",
              "        [0.9803],\n",
              "        [0.9750],\n",
              "        [0.9696],\n",
              "        [0.9696],\n",
              "        [0.9642],\n",
              "        [0.9588],\n",
              "        [0.9534],\n",
              "        [0.9534],\n",
              "        [0.9534],\n",
              "        [0.9480],\n",
              "        [0.9534],\n",
              "        [0.9480],\n",
              "        [0.9426],\n",
              "        [0.9372],\n",
              "        [0.9372],\n",
              "        [0.9642],\n",
              "        [0.9588],\n",
              "        [0.9534],\n",
              "        [0.9480],\n",
              "        [0.9426],\n",
              "        [0.9372],\n",
              "        [0.9372],\n",
              "        [0.9319],\n",
              "        [0.9265],\n",
              "        [0.9211],\n",
              "        [0.9211],\n",
              "        [0.9157],\n",
              "        [0.9103],\n",
              "        [0.9049],\n",
              "        [0.8995],\n",
              "        [0.8995],\n",
              "        [0.8942],\n",
              "        [0.8942],\n",
              "        [0.8888],\n",
              "        [0.8834],\n",
              "        [0.8834],\n",
              "        [0.8780],\n",
              "        [0.8780],\n",
              "        [0.8726],\n",
              "        [0.8672],\n",
              "        [0.8672],\n",
              "        [0.8618],\n",
              "        [0.8565],\n",
              "        [0.8565],\n",
              "        [0.8511],\n",
              "        [0.8618],\n",
              "        [0.8457],\n",
              "        [0.8403],\n",
              "        [0.8403],\n",
              "        [0.8403],\n",
              "        [0.8349],\n",
              "        [0.8349],\n",
              "        [0.8295],\n",
              "        [0.8241],\n",
              "        [0.8241],\n",
              "        [0.8187],\n",
              "        [0.8187],\n",
              "        [0.8672],\n",
              "        [0.8403],\n",
              "        [0.8349],\n",
              "        [0.8241],\n",
              "        [0.8241],\n",
              "        [0.8187],\n",
              "        [0.8134],\n",
              "        [0.8134],\n",
              "        [0.8080],\n",
              "        [0.8026],\n",
              "        [0.8026],\n",
              "        [0.7972],\n",
              "        [0.7972],\n",
              "        [0.8026],\n",
              "        [0.8080],\n",
              "        [0.7972],\n",
              "        [0.7918],\n",
              "        [0.7810],\n",
              "        [0.7810],\n",
              "        [0.7864],\n",
              "        [0.7810],\n",
              "        [0.7757],\n",
              "        [0.7703],\n",
              "        [0.7703],\n",
              "        [0.7703],\n",
              "        [0.7649],\n",
              "        [0.7649],\n",
              "        [0.7595],\n",
              "        [0.7595],\n",
              "        [0.7595],\n",
              "        [0.7703],\n",
              "        [0.7757],\n",
              "        [0.7649],\n",
              "        [0.7595],\n",
              "        [0.7541],\n",
              "        [0.7541],\n",
              "        [0.7487],\n",
              "        [0.7487],\n",
              "        [0.7433],\n",
              "        [0.7433],\n",
              "        [0.7379],\n",
              "        [0.7379],\n",
              "        [0.7326],\n",
              "        [0.7433],\n",
              "        [0.7487],\n",
              "        [0.7379],\n",
              "        [0.7326],\n",
              "        [0.7272],\n",
              "        [0.7272],\n",
              "        [0.7272],\n",
              "        [0.7272],\n",
              "        [0.7218],\n",
              "        [0.7218],\n",
              "        [0.7218],\n",
              "        [0.7164],\n",
              "        [0.7164],\n",
              "        [0.7110],\n",
              "        [0.7110],\n",
              "        [0.7110],\n",
              "        [0.7110],\n",
              "        [0.7110],\n",
              "        [0.7326],\n",
              "        [0.7218],\n",
              "        [0.7164],\n",
              "        [0.7110],\n",
              "        [0.7110],\n",
              "        [0.7056],\n",
              "        [0.7056],\n",
              "        [0.7056],\n",
              "        [0.7002],\n",
              "        [0.7002],\n",
              "        [0.0000],\n",
              "        [0.0000],\n",
              "        [0.0000],\n",
              "        [0.0000],\n",
              "        [0.0000],\n",
              "        [0.0000],\n",
              "        [0.0000],\n",
              "        [0.0000]])"
            ]
          },
          "metadata": {},
          "execution_count": 8
        }
      ]
    },
    {
      "cell_type": "code",
      "source": [],
      "metadata": {
        "id": "cSJ2dFvEPwt-"
      },
      "execution_count": 8,
      "outputs": []
    },
    {
      "cell_type": "markdown",
      "metadata": {
        "id": "TsufmPZd60hL"
      },
      "source": [
        "## Window 분할"
      ]
    },
    {
      "cell_type": "code",
      "source": [
        "# train_size 다음 스텝부터 예측 시작\n",
        "for i in range(train_size - 1, len(X_tensors)-1):\n",
        "    # 앞서 정해준 epoch 수만큼 모델 학습\n",
        "    for epoch in range(num_epochs):\n",
        "        outputs = model.forward(X_tensors[i - (train_size-1):i, :])\n",
        "        optimizer.zero_grad()\n",
        "\n",
        "        loss = criterion(outputs, y_tensors[i])\n",
        "        loss.backward(retain_graph=True)  # 역전파 기울기 학습\n",
        "        optimizer.step()  # 오차 업데이트\n",
        "        if (epoch + 1) % num_epochs == 0:\n",
        "            print(\"step: %d, epoch: %d, loss: %1.7f\" % (i + 1, epoch + 1, loss.item()))\n",
        "\n",
        "        with torch.no_grad():\n",
        "            predict[i+1] = model(X_tensors[i+1].unsqueeze(0))\n",
        "\n",
        "\n",
        "\n",
        "        #### 여기 위주로 수정하면 됨!!\n",
        "        predicted = predict.cpu().data.numpy()      #학습시킨 데이터를 numpy() 배열화 + mps의 텐서를 cpu로 복사\n",
        "\n",
        "        predicted= ms.inverse_transform(predicted)  #numpy 배열화된 X를 MinMax 스케일링 후, inverse transform 진행\n",
        "        # 예측된 다음 step을 다시 학습 재료로 넣어줘야함!\n",
        "        y_tensors[i+1] = torch.tensor(predicted[i+1])"
      ],
      "metadata": {
        "colab": {
          "base_uri": "https://localhost:8080/"
        },
        "id": "I1letRELhsa0",
        "outputId": "dae6da61-379e-4c7e-d692-0078bf486636"
      },
      "execution_count": 9,
      "outputs": [
        {
          "output_type": "stream",
          "name": "stdout",
          "text": [
            "step: 160, epoch: 1000, loss: 0.0000000\n",
            "step: 161, epoch: 1000, loss: 0.0000000\n",
            "step: 162, epoch: 1000, loss: 0.0000000\n",
            "step: 163, epoch: 1000, loss: 0.0000000\n",
            "step: 164, epoch: 1000, loss: 0.0000000\n",
            "step: 165, epoch: 1000, loss: 0.0000000\n",
            "step: 166, epoch: 1000, loss: 0.0000000\n",
            "step: 167, epoch: 1000, loss: 0.0000000\n"
          ]
        }
      ]
    },
    {
      "cell_type": "markdown",
      "metadata": {
        "id": "rTap_OL660hL"
      },
      "source": [
        "## 학습"
      ]
    },
    {
      "cell_type": "code",
      "source": [
        "y_tensors=y_tensors.data.cpu().numpy()"
      ],
      "metadata": {
        "id": "MeA4-pZ_RLSt"
      },
      "execution_count": 10,
      "outputs": []
    },
    {
      "cell_type": "markdown",
      "metadata": {
        "id": "O8Y7rn_I60hM"
      },
      "source": [
        "## 예측 시작"
      ]
    },
    {
      "cell_type": "code",
      "execution_count": 11,
      "metadata": {
        "id": "Pz1K2dKC60hM"
      },
      "outputs": [],
      "source": [
        "#x,y 데이터 정규화\n",
        "df_y_ms = y\n",
        "df_y_ms = Variable(torch.Tensor(df_y_ms))\n",
        "df_y_ms = df_y_ms.to(device=device, dtype=torch.float32)\n",
        "label_y = df_y_ms.data.cpu().numpy()              #y데이터도 numpy() 배열화 + mps의 텐서를 cpu로 복사\n"
      ]
    },
    {
      "cell_type": "code",
      "execution_count": 12,
      "metadata": {
        "id": "nTpsRZQt60hM",
        "colab": {
          "base_uri": "https://localhost:8080/"
        },
        "outputId": "3fb95ca5-78af-49ed-a847-3cbb62ffb545"
      },
      "outputs": [
        {
          "output_type": "execute_result",
          "data": {
            "text/plain": [
              "array([[1.0018853 ],\n",
              "       [0.99649876],\n",
              "       [0.9911123 ],\n",
              "       [0.9911123 ],\n",
              "       [0.9857258 ],\n",
              "       [0.9911123 ],\n",
              "       [0.9911123 ],\n",
              "       [0.9857258 ],\n",
              "       [0.98033935],\n",
              "       [0.98033935],\n",
              "       [0.98033935],\n",
              "       [0.9749529 ],\n",
              "       [0.9749529 ],\n",
              "       [0.9749529 ],\n",
              "       [0.9695664 ],\n",
              "       [0.9695664 ],\n",
              "       [0.9695664 ],\n",
              "       [0.9695664 ],\n",
              "       [0.9695664 ],\n",
              "       [0.99649876],\n",
              "       [0.99649876],\n",
              "       [0.9911123 ],\n",
              "       [0.9857258 ],\n",
              "       [0.9857258 ],\n",
              "       [0.9857258 ],\n",
              "       [0.9749529 ],\n",
              "       [0.9749529 ],\n",
              "       [0.9749529 ],\n",
              "       [0.9695664 ],\n",
              "       [0.9695664 ],\n",
              "       [0.99649876],\n",
              "       [0.9857258 ],\n",
              "       [0.98033935],\n",
              "       [0.9749529 ],\n",
              "       [0.9695664 ],\n",
              "       [0.9695664 ],\n",
              "       [0.96417993],\n",
              "       [0.9587934 ],\n",
              "       [0.95340693],\n",
              "       [0.95340693],\n",
              "       [0.95340693],\n",
              "       [0.94802046],\n",
              "       [0.95340693],\n",
              "       [0.94802046],\n",
              "       [0.942634  ],\n",
              "       [0.9372475 ],\n",
              "       [0.9372475 ],\n",
              "       [0.96417993],\n",
              "       [0.9587934 ],\n",
              "       [0.95340693],\n",
              "       [0.94802046],\n",
              "       [0.942634  ],\n",
              "       [0.9372475 ],\n",
              "       [0.9372475 ],\n",
              "       [0.93186104],\n",
              "       [0.9264746 ],\n",
              "       [0.92108804],\n",
              "       [0.92108804],\n",
              "       [0.91570157],\n",
              "       [0.9103151 ],\n",
              "       [0.9049286 ],\n",
              "       [0.89954215],\n",
              "       [0.89954215],\n",
              "       [0.8941557 ],\n",
              "       [0.8941557 ],\n",
              "       [0.8887692 ],\n",
              "       [0.88338274],\n",
              "       [0.88338274],\n",
              "       [0.8779962 ],\n",
              "       [0.8779962 ],\n",
              "       [0.87260973],\n",
              "       [0.86722326],\n",
              "       [0.86722326],\n",
              "       [0.8618368 ],\n",
              "       [0.8564503 ],\n",
              "       [0.8564503 ],\n",
              "       [0.85106385],\n",
              "       [0.8618368 ],\n",
              "       [0.8456774 ],\n",
              "       [0.84029084],\n",
              "       [0.84029084],\n",
              "       [0.84029084],\n",
              "       [0.8349044 ],\n",
              "       [0.8349044 ],\n",
              "       [0.8295179 ],\n",
              "       [0.8241314 ],\n",
              "       [0.8241314 ],\n",
              "       [0.81874496],\n",
              "       [0.81874496],\n",
              "       [0.86722326],\n",
              "       [0.84029084],\n",
              "       [0.8349044 ],\n",
              "       [0.8241314 ],\n",
              "       [0.8241314 ],\n",
              "       [0.81874496],\n",
              "       [0.8133585 ],\n",
              "       [0.8133585 ],\n",
              "       [0.807972  ],\n",
              "       [0.8025855 ],\n",
              "       [0.8025855 ],\n",
              "       [0.797199  ],\n",
              "       [0.797199  ],\n",
              "       [0.8025855 ],\n",
              "       [0.807972  ],\n",
              "       [0.797199  ],\n",
              "       [0.79181254],\n",
              "       [0.7810396 ],\n",
              "       [0.7810396 ],\n",
              "       [0.78642607],\n",
              "       [0.7810396 ],\n",
              "       [0.7756531 ],\n",
              "       [0.77026665],\n",
              "       [0.77026665],\n",
              "       [0.77026665],\n",
              "       [0.7648802 ],\n",
              "       [0.7648802 ],\n",
              "       [0.75949365],\n",
              "       [0.75949365],\n",
              "       [0.75949365],\n",
              "       [0.77026665],\n",
              "       [0.7756531 ],\n",
              "       [0.7648802 ],\n",
              "       [0.75949365],\n",
              "       [0.7541072 ],\n",
              "       [0.7541072 ],\n",
              "       [0.7487207 ],\n",
              "       [0.7487207 ],\n",
              "       [0.74333423],\n",
              "       [0.74333423],\n",
              "       [0.73794776],\n",
              "       [0.73794776],\n",
              "       [0.7325613 ],\n",
              "       [0.74333423],\n",
              "       [0.7487207 ],\n",
              "       [0.73794776],\n",
              "       [0.7325613 ],\n",
              "       [0.7271748 ],\n",
              "       [0.7271748 ],\n",
              "       [0.7271748 ],\n",
              "       [0.7271748 ],\n",
              "       [0.7217883 ],\n",
              "       [0.7217883 ],\n",
              "       [0.7217883 ],\n",
              "       [0.7164018 ],\n",
              "       [0.7164018 ],\n",
              "       [0.71101534],\n",
              "       [0.71101534],\n",
              "       [0.71101534],\n",
              "       [0.71101534],\n",
              "       [0.71101534],\n",
              "       [0.7325613 ],\n",
              "       [0.7217883 ],\n",
              "       [0.7164018 ],\n",
              "       [0.71101534],\n",
              "       [0.71101534],\n",
              "       [0.7056289 ],\n",
              "       [0.7056289 ],\n",
              "       [0.7056289 ],\n",
              "       [0.7002424 ],\n",
              "       [0.7002424 ],\n",
              "       [0.6974831 ],\n",
              "       [0.7196557 ],\n",
              "       [0.69930655],\n",
              "       [0.7168594 ],\n",
              "       [0.74120927],\n",
              "       [0.75873715],\n",
              "       [0.8242218 ],\n",
              "       [0.8655947 ]], dtype=float32)"
            ]
          },
          "metadata": {},
          "execution_count": 12
        }
      ],
      "source": [
        "y_tensors\n",
        "\n"
      ]
    },
    {
      "cell_type": "code",
      "execution_count": 13,
      "metadata": {
        "id": "AyayXeC660hM",
        "colab": {
          "base_uri": "https://localhost:8080/",
          "height": 545
        },
        "outputId": "f7f4387f-7993-476f-ccb3-a05b772fd488"
      },
      "outputs": [
        {
          "output_type": "display_data",
          "data": {
            "text/plain": [
              "<Figure size 1000x600 with 1 Axes>"
            ],
            "image/png": "[encoded data removed]"
          },
          "metadata": {}
        }
      ],
      "source": [
        "import matplotlib.pyplot as plt\n",
        "plt.figure(figsize=(10,6))\n",
        "plt.axvline(x=120, c='r', linestyle='--')       #120번째 항목부터 구획하기\n",
        "\n",
        "plt.plot(label_y, label='Actual Data')\n",
        "plt.plot(range(120,168),y_tensors[120:168], label='Predicted Data')\n",
        "plt.title('Time-Series Prediction')\n",
        "plt.legend()\n",
        "plt.show()"
      ]
    }
  ],
  "metadata": {
    "kernelspec": {
      "display_name": "Python 3",
      "name": "python3"
    },
    "language_info": {
      "codemirror_mode": {
        "name": "ipython",
        "version": 3
      },
      "file_extension": ".py",
      "mimetype": "text/x-python",
      "name": "python",
      "nbconvert_exporter": "python",
      "pygments_lexer": "ipython3",
      "version": "3.9.16"
    },
    "orig_nbformat": 4,
    "vscode": {
      "interpreter": {
        "hash": "b3f4887963920f49dca6f6eaa63b1fe5c858b568bcae60ca04551807b3410395"
      }
    },
    "colab": {
      "provenance": [],
      "gpuType": "T4"
    },
    "accelerator": "GPU"
  },
  "nbformat": 4,
  "nbformat_minor": 0
}